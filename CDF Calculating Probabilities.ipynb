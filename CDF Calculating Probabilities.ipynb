{
 "cells": [
  {
   "cell_type": "markdown",
   "id": "b00bc4bc",
   "metadata": {},
   "source": [
    "# Use CDF to Calculate Probabilities\n",
    "---\n",
    "\n",
    "Author: Jackson Muehlbauer\n",
    "\n",
    "Date: 3/5/23"
   ]
  },
  {
   "cell_type": "code",
   "execution_count": 1,
   "id": "2b94f314",
   "metadata": {},
   "outputs": [],
   "source": [
    "# imports\n",
    "import matplotlib.pyplot as plt\n",
    "import seaborn as sns\n",
    "import pandas as pd\n",
    "import numpy as np\n",
    "import matplotlib as mpl\n",
    "from sklearn.preprocessing import StandardScaler\n",
    "from scipy import stats"
   ]
  },
  {
   "cell_type": "code",
   "execution_count": 2,
   "id": "ac488a46",
   "metadata": {},
   "outputs": [
    {
     "data": {
      "text/html": [
       "<div>\n",
       "<style scoped>\n",
       "    .dataframe tbody tr th:only-of-type {\n",
       "        vertical-align: middle;\n",
       "    }\n",
       "\n",
       "    .dataframe tbody tr th {\n",
       "        vertical-align: top;\n",
       "    }\n",
       "\n",
       "    .dataframe thead th {\n",
       "        text-align: right;\n",
       "    }\n",
       "</style>\n",
       "<table border=\"1\" class=\"dataframe\">\n",
       "  <thead>\n",
       "    <tr style=\"text-align: right;\">\n",
       "      <th></th>\n",
       "      <th>Gender</th>\n",
       "      <th>Height</th>\n",
       "      <th>Weight</th>\n",
       "    </tr>\n",
       "  </thead>\n",
       "  <tbody>\n",
       "    <tr>\n",
       "      <th>0</th>\n",
       "      <td>Male</td>\n",
       "      <td>73.847017</td>\n",
       "      <td>241.893563</td>\n",
       "    </tr>\n",
       "    <tr>\n",
       "      <th>1</th>\n",
       "      <td>Male</td>\n",
       "      <td>68.781904</td>\n",
       "      <td>162.310473</td>\n",
       "    </tr>\n",
       "    <tr>\n",
       "      <th>2</th>\n",
       "      <td>Male</td>\n",
       "      <td>74.110105</td>\n",
       "      <td>212.740856</td>\n",
       "    </tr>\n",
       "    <tr>\n",
       "      <th>3</th>\n",
       "      <td>Male</td>\n",
       "      <td>71.730978</td>\n",
       "      <td>220.042470</td>\n",
       "    </tr>\n",
       "    <tr>\n",
       "      <th>4</th>\n",
       "      <td>Male</td>\n",
       "      <td>69.881796</td>\n",
       "      <td>206.349801</td>\n",
       "    </tr>\n",
       "  </tbody>\n",
       "</table>\n",
       "</div>"
      ],
      "text/plain": [
       "  Gender     Height      Weight\n",
       "0   Male  73.847017  241.893563\n",
       "1   Male  68.781904  162.310473\n",
       "2   Male  74.110105  212.740856\n",
       "3   Male  71.730978  220.042470\n",
       "4   Male  69.881796  206.349801"
      ]
     },
     "execution_count": 2,
     "metadata": {},
     "output_type": "execute_result"
    }
   ],
   "source": [
    "# load data\n",
    "path = 'Data/weight-height male-female - weight-height.csv'\n",
    "df = pd.read_csv(path)\n",
    "df.head()"
   ]
  },
  {
   "cell_type": "code",
   "execution_count": 4,
   "id": "a14bfa69",
   "metadata": {},
   "outputs": [
    {
     "data": {
      "text/plain": [
       "array([58.91073204, 65.23001251, 63.36900376, 64.47999743, 61.79309615])"
      ]
     },
     "execution_count": 4,
     "metadata": {},
     "output_type": "execute_result"
    }
   ],
   "source": [
    "# slice out only female heights\n",
    "females = df.loc[df['Gender'] == 'Female', 'Height'].to_numpy()\n",
    "females[:5]"
   ]
  },
  {
   "cell_type": "code",
   "execution_count": 5,
   "id": "e5d311cb",
   "metadata": {},
   "outputs": [],
   "source": [
    "# stats\n",
    "mean = np.mean(females)\n",
    "std = np.std(females)"
   ]
  },
  {
   "cell_type": "code",
   "execution_count": 8,
   "id": "c9127235",
   "metadata": {},
   "outputs": [
    {
     "data": {
      "text/plain": [
       "<AxesSubplot: ylabel='Density'>"
      ]
     },
     "execution_count": 8,
     "metadata": {},
     "output_type": "execute_result"
    },
    {
     "data": {
      "image/png": "[encoded data removed]",
      "text/plain": [
       "<Figure size 1000x600 with 1 Axes>"
      ]
     },
     "metadata": {},
     "output_type": "display_data"
    }
   ],
   "source": [
    "# For sanity checking\n",
    "# plot cdf\n",
    "fig, ax = plt.subplots(figsize = (10, 6))\n",
    "sns.histplot(x = females, stat = 'density', cumulative = True)"
   ]
  },
  {
   "cell_type": "code",
   "execution_count": 6,
   "id": "a71634a1",
   "metadata": {},
   "outputs": [
    {
     "name": "stdout",
     "output_type": "stream",
     "text": [
      "Probability of a female's height is between 55.0 and 56.0: 0.0015043054289559745\n"
     ]
    }
   ],
   "source": [
    "# 1. Probability of a female's height is between 55.0 and 56.0\n",
    "high_end = 56.0\n",
    "low_end = 55.0\n",
    "\n",
    "prob = stats.norm.cdf(high_end, loc = mean, scale = std) - stats.norm.cdf(low_end, loc = mean, scale = std)\n",
    "\n",
    "print(f\"Probability of a female's height is between 55.0 and 56.0: {prob}\")"
   ]
  },
  {
   "cell_type": "code",
   "execution_count": 7,
   "id": "cc3e9857",
   "metadata": {},
   "outputs": [
    {
     "name": "stdout",
     "output_type": "stream",
     "text": [
      "Probability of a female's height is less than 5 feet: 0.0844649272520746\n"
     ]
    }
   ],
   "source": [
    "# 2. Probability of a female's height is less than 5 feet\n",
    "cut_off = 60\n",
    "prob = stats.norm.cdf(cut_off, loc = mean, scale = std)\n",
    "\n",
    "print(f\"Probability of a female's height is less than 5 feet: {prob}\")"
   ]
  },
  {
   "cell_type": "code",
   "execution_count": 9,
   "id": "9ecc0714",
   "metadata": {},
   "outputs": [
    {
     "name": "stdout",
     "output_type": "stream",
     "text": [
      "Probability of a female's height is greater than the mean: 0.5\n"
     ]
    }
   ],
   "source": [
    "# 3. Probability of a female's height is greater than the mean?\n",
    "# by definition this should be 0.5\n",
    "cut_off = mean\n",
    "prob = 1 - stats.norm.cdf(cut_off, loc = mean, scale = std) # subtract from 1 for greater than\n",
    "\n",
    "print(f\"Probability of a female's height is greater than the mean: {prob}\")"
   ]
  }
 ],
 "metadata": {
  "kernelspec": {
   "display_name": "Python (dojo-env)",
   "language": "python",
   "name": "dojo-env"
  },
  "language_info": {
   "codemirror_mode": {
    "name": "ipython",
    "version": 3
   },
   "file_extension": ".py",
   "mimetype": "text/x-python",
   "name": "python",
   "nbconvert_exporter": "python",
   "pygments_lexer": "ipython3",
   "version": "3.9.15"
  },
  "toc": {
   "base_numbering": 1,
   "nav_menu": {},
   "number_sections": false,
   "sideBar": true,
   "skip_h1_title": false,
   "title_cell": "Table of Contents",
   "title_sidebar": "Contents",
   "toc_cell": false,
   "toc_position": {},
   "toc_section_display": true,
   "toc_window_display": false
  }
 },
 "nbformat": 4,
 "nbformat_minor": 5
}
